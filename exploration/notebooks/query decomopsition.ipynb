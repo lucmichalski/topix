{
 "cells": [
  {
   "cell_type": "markdown",
   "metadata": {},
   "source": [
    "# Plan\n",
    "* set of k queries (q)\n",
    "* set of N document vectors (z)\n",
    "* input N documents (tfidf)\n",
    "* L = |Yi-Y'i| + Entropy(Yi * Qj)"
   ]
  },
  {
   "cell_type": "code",
   "execution_count": 3,
   "metadata": {},
   "outputs": [
    {
     "name": "stdout",
     "output_type": "stream",
     "text": [
      "Requirement already satisfied: torch in /home/ec2-user/anaconda3/lib/python3.6/site-packages (1.4.0)\r\n"
     ]
    }
   ],
   "source": [
    "!pip install torch"
   ]
  },
  {
   "cell_type": "code",
   "execution_count": 4,
   "metadata": {},
   "outputs": [],
   "source": [
    "import torch"
   ]
  },
  {
   "cell_type": "code",
   "execution_count": null,
   "metadata": {},
   "outputs": [],
   "source": [
    "class Module(torch.nn.modules):\n",
    "    def __init__(self, query_count, query_dim, vocab_size):\n",
    "        self.q = torch.nn.Embedding(query_count, query_dim)\n",
    "        self.enc = torch.nn.Linear(vocab_size, query_dim)\n",
    "        self.dec = torch.nn.Linear(query_dim, vocab_size)\n",
    "    \n",
    "    def forward(self, x):\n",
    "        y = self.enc(x)\n",
    "        # yi * qj\n",
    "        self.q.weights * \n",
    "        y = self.dec(y)"
   ]
  },
  {
   "cell_type": "code",
   "execution_count": 5,
   "metadata": {},
   "outputs": [],
   "source": [
    "emb = torch.nn.Embedding(2, 3)"
   ]
  }
 ],
 "metadata": {
  "kernelspec": {
   "display_name": "Python 3",
   "language": "python",
   "name": "python3"
  },
  "language_info": {
   "codemirror_mode": {
    "name": "ipython",
    "version": 3
   },
   "file_extension": ".py",
   "mimetype": "text/x-python",
   "name": "python",
   "nbconvert_exporter": "python",
   "pygments_lexer": "ipython3",
   "version": "3.6.6"
  }
 },
 "nbformat": 4,
 "nbformat_minor": 2
}
