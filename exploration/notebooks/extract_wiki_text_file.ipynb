{
 "cells": [
  {
   "cell_type": "code",
   "execution_count": 10,
   "metadata": {},
   "outputs": [],
   "source": [
    "import os\n",
    "import glob\n",
    "import json\n",
    "from tqdm.notebook import tqdm"
   ]
  },
  {
   "cell_type": "code",
   "execution_count": 11,
   "metadata": {},
   "outputs": [
    {
     "name": "stdout",
     "output_type": "stream",
     "text": [
      "dirs_train: ['AA', 'AB', 'AC', 'AD', 'AE', 'AF', 'AG', 'AH', 'AI', 'AJ']\n",
      "dirs_test: ['AK', 'AL']\n"
     ]
    },
    {
     "data": {
      "application/vnd.jupyter.widget-view+json": {
       "model_id": "b16458d9f04f480d967d2a0ed7afa975",
       "version_major": 2,
       "version_minor": 0
      },
      "text/plain": [
       "HBox(children=(FloatProgress(value=0.0, max=1.0), HTML(value='')))"
      ]
     },
     "metadata": {},
     "output_type": "display_data"
    },
    {
     "data": {
      "application/vnd.jupyter.widget-view+json": {
       "model_id": "d90abcd49110451da19429594441c536",
       "version_major": 2,
       "version_minor": 0
      },
      "text/plain": [
       "HBox(children=(FloatProgress(value=0.0, max=14.0), HTML(value='')))"
      ]
     },
     "metadata": {},
     "output_type": "display_data"
    },
    {
     "name": "stdout",
     "output_type": "stream",
     "text": [
      "\n",
      "מתמטיקה\n",
      "מָתֵמָטִיקָה היא תחום דעת העוסק במושגים כגון כמות, מבנה, מרחב ושינוי. המתמטיקאים מחפשים דפוס\n",
      "\n"
     ]
    }
   ],
   "source": [
    "PATH = './wikiextractor/results'\n",
    "delimiter = round((len(os.listdir(PATH)) - 2) * 0.85)\n",
    "\n",
    "dirs_train = os.listdir(PATH)[:delimiter]\n",
    "dirs_test = os.listdir(PATH)[delimiter:-2]\n",
    "\n",
    "print(f'dirs_train: {dirs_train[0:10]}')\n",
    "print(f'dirs_test: {dirs_test[0:10]}')\n",
    "\n",
    "train_files = {'train.txt': dirs_train, 'test.txt': dirs_test}\n",
    "\n",
    "for train_file, dirs in tqdm(train_files.items()):\n",
    "    all_text = ''\n",
    "\n",
    "    for dir in tqdm(dirs):\n",
    "        files = glob.glob(f'{PATH}/{dir}/*')\n",
    "        for file in files:\n",
    "            with open(file, 'r', encoding='utf-8') as fd:\n",
    "                file_text = fd.read()\n",
    "                lines = file_text.split('\\n')\n",
    "                for line in lines:\n",
    "                    if line.strip() == '':\n",
    "                        continue\n",
    "                    try:\n",
    "                        json_data = json.loads(line.strip())\n",
    "                        line_text = json_data['text'].strip()\n",
    "                        if line_text.strip() == '':\n",
    "                            continue\n",
    "                        lines_inside_text = line_text.strip().split('\\n')\n",
    "                        for line_inside_text in lines_inside_text:\n",
    "                            if line_inside_text.strip() == '':\n",
    "                                continue\n",
    "                            all_text += line_inside_text.strip() + '\\n'\n",
    "                        all_text += '\\n'\n",
    "                    except Exception as e:\n",
    "                        pass\n",
    "    \n",
    "    print(f'{all_text[0:100]}')\n",
    "    with open(train_file, 'w', encoding='utf-8') as tf:\n",
    "        tf.write(all_text)"
   ]
  }
 ],
 "metadata": {
  "kernelspec": {
   "display_name": "Python 3",
   "language": "python",
   "name": "python3"
  },
  "language_info": {
   "codemirror_mode": {
    "name": "ipython",
    "version": 3
   },
   "file_extension": ".py",
   "mimetype": "text/x-python",
   "name": "python",
   "nbconvert_exporter": "python",
   "pygments_lexer": "ipython3",
   "version": "3.6.6"
  }
 },
 "nbformat": 4,
 "nbformat_minor": 2
}
