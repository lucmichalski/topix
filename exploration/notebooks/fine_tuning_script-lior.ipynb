{
 "cells": [
  {
   "cell_type": "code",
   "execution_count": 1,
   "metadata": {},
   "outputs": [],
   "source": [
    "from tokenizers import BertWordPieceTokenizer\n",
    "\n",
    "tokenizer_wp = BertWordPieceTokenizer(lowercase=True, vocab_file=None, add_special_tokens=True, unk_token='[UNK]', \n",
    "                                      sep_token='[SEP]', cls_token='[CLS]', clean_text=True, handle_chinese_chars=False, \n",
    "                                      strip_accents=True, wordpieces_prefix='##')\n",
    "tokenizer_wp.train(files=[\"../data/new_data/all_text.txt\"], show_progress=True, vocab_size=40000, special_tokens=[\n",
    "    '[NUM]',\n",
    "    '[DATE]', \n",
    "    '[PAD]', \n",
    "    '[UNK]', \n",
    "    '[CLS]', \n",
    "    '[SEP]', \n",
    "    '[MASK]'\n",
    "])"
   ]
  },
  {
   "cell_type": "code",
   "execution_count": 2,
   "metadata": {},
   "outputs": [
    {
     "data": {
      "text/plain": [
       "['../data/new_data/hebrew-vocab.txt']"
      ]
     },
     "execution_count": 2,
     "metadata": {},
     "output_type": "execute_result"
    }
   ],
   "source": [
    "tokenizer_wp.save(directory='../data/new_data/', name='hebrew')"
   ]
  },
  {
   "cell_type": "code",
   "execution_count": 12,
   "metadata": {},
   "outputs": [],
   "source": [
    "tokens = tokenizer_wp.encode(\"קלצ'ניקוב, שידוע גם בשמו הרשמי AK-[NUM], AK[NUM] או אק[NUM] הוא רובה סער מתוצרת רוסית שנוצר בשנת [NUM]\")"
   ]
  },
  {
   "cell_type": "code",
   "execution_count": 13,
   "metadata": {},
   "outputs": [
    {
     "data": {
      "text/plain": [
       "[32226,\n",
       " 13,\n",
       " 29342,\n",
       " 96,\n",
       " 18,\n",
       " 19961,\n",
       " 286,\n",
       " 7223,\n",
       " 4699,\n",
       " 22176,\n",
       " 19,\n",
       " 0,\n",
       " 18,\n",
       " 22176,\n",
       " 0,\n",
       " 300,\n",
       " 1678,\n",
       " 0,\n",
       " 214,\n",
       " 11146,\n",
       " 11494,\n",
       " 7684,\n",
       " 7681,\n",
       " 7293,\n",
       " 266,\n",
       " 0]"
      ]
     },
     "execution_count": 13,
     "metadata": {},
     "output_type": "execute_result"
    }
   ],
   "source": [
    "tokens.ids"
   ]
  },
  {
   "cell_type": "code",
   "execution_count": 14,
   "metadata": {},
   "outputs": [
    {
     "data": {
      "text/plain": [
       "['קלצ',\n",
       " \"'\",\n",
       " 'ניקו',\n",
       " '##ב',\n",
       " ',',\n",
       " 'שידוע',\n",
       " 'גם',\n",
       " 'בשמו',\n",
       " 'הרשמי',\n",
       " 'ak',\n",
       " '-',\n",
       " '[NUM]',\n",
       " ',',\n",
       " 'ak',\n",
       " '[NUM]',\n",
       " 'או',\n",
       " 'אק',\n",
       " '[NUM]',\n",
       " 'הוא',\n",
       " 'רובה',\n",
       " 'סער',\n",
       " 'מתוצרת',\n",
       " 'רוסית',\n",
       " 'שנוצר',\n",
       " 'בשנת',\n",
       " '[NUM]']"
      ]
     },
     "execution_count": 14,
     "metadata": {},
     "output_type": "execute_result"
    }
   ],
   "source": [
    "tokens.tokens"
   ]
  },
  {
   "cell_type": "code",
   "execution_count": null,
   "metadata": {},
   "outputs": [],
   "source": []
  }
 ],
 "metadata": {
  "kernelspec": {
   "display_name": "Python 3",
   "language": "python",
   "name": "python3"
  },
  "language_info": {
   "codemirror_mode": {
    "name": "ipython",
    "version": 3
   },
   "file_extension": ".py",
   "mimetype": "text/x-python",
   "name": "python",
   "nbconvert_exporter": "python",
   "pygments_lexer": "ipython3",
   "version": "3.6.6"
  }
 },
 "nbformat": 4,
 "nbformat_minor": 2
}
